{
 "cells": [
  {
   "cell_type": "code",
   "execution_count": 1,
   "metadata": {},
   "outputs": [],
   "source": [
    "import pandas as pd\n",
    "import numpy as np\n",
    "from sklearn.preprocessing import PolynomialFeatures\n",
    "from sklearn.linear_model import LinearRegression\n",
    "from sklearn.linear_model import Ridge\n",
    "from sklearn.linear_model import Lasso\n",
    "from sklearn.model_selection import train_test_split\n",
    "from sklearn.metrics import r2_score\n",
    "import pickle\n",
    "from typing import Union"
   ]
  },
  {
   "cell_type": "code",
   "execution_count": 2,
   "metadata": {},
   "outputs": [],
   "source": [
    "# Load data after preprocessing\n",
    "data = pd.read_csv('../../data/data_ready.csv')"
   ]
  },
  {
   "cell_type": "code",
   "execution_count": 3,
   "metadata": {},
   "outputs": [],
   "source": [
    "def polynomial_model(model,\n",
    "                    degree:int|tuple[int, int], \n",
    "                    X:pd.DataFrame,\n",
    "                    y:list,\n",
    "                    train_model = True,\n",
    "                    predict_model = False\n",
    "                    ) -> Union[None,np.array]:\n",
    "    \"\"\"Create polynomial model with given degree on the features and target.\n",
    "    Using PolynomialFeatures() to generate polynomial included interaction features only.\n",
    "    it can fit the model on the new features from PolynomialFeatures() generated.\n",
    "    and predict target data by the new features from PolynomialFeatures() generated.\n",
    "\n",
    "    Args:\n",
    "        model (ScikitModel): model\n",
    "        degree ([int or tuple(int, int)]): could be single number assign to maximal degree, \n",
    "                                            or tuple of numbers assign to (min_degree, max_degree).\n",
    "        X (pd.DataFrame): samples of features dataframe.\n",
    "        y (list, optional): samples of target column.\n",
    "        train_model (bool, optional): train model on new features from polynomial features model. Defaults to True.\n",
    "        predict_model (bool, optional): predict target data on new features from polynomial features model. Defaults to False.\n",
    "\n",
    "    Returns:\n",
    "        (None or np.array): nothing when train model and an array contains predicted values when predict model.\n",
    "    \"\"\"\n",
    "    poly = PolynomialFeatures(degree, interaction_only=True)\n",
    "    new_features = poly.fit_transform(X)\n",
    "    \n",
    "    if train_model:\n",
    "        model.fit(new_features, y)\n",
    "    \n",
    "    if predict_model:\n",
    "        predict_data = model.predict(new_features) \n",
    "        return predict_data"
   ]
  },
  {
   "cell_type": "code",
   "execution_count": 4,
   "metadata": {},
   "outputs": [],
   "source": [
    "def train_models(models:dict,\n",
    "                X_train:pd.DataFrame, \n",
    "                y_train:list) -> dict:\n",
    "    \"\"\"Training all models in the dictionary on the features and target variable.\n",
    "    Keeping in view the degree number, if any.\n",
    "\n",
    "    Args:\n",
    "        models (dict): Contains model name (key), model and degree number (optional).\n",
    "        X_train (pd.DataFrame): features dataframe.\n",
    "        y_train (list): target column.\n",
    "\n",
    "    Returns:\n",
    "        (dict): New dictionary contains models trained.\n",
    "    \"\"\"\n",
    "    for model_id in models:\n",
    "        degree = models[model_id].get('degree') if models[model_id].get('degree') else None\n",
    "        \n",
    "        polynomial_model(model=models[model_id]['model'],\n",
    "                            degree=degree,\n",
    "                            X=X_train,\n",
    "                            y=y_train) if degree else models[model_id]['model'].fit(X_train, y_train)\n",
    "\n",
    "        print('Trained -> ', models[model_id])\n",
    "\n",
    "    return models"
   ]
  },
  {
   "cell_type": "code",
   "execution_count": 5,
   "metadata": {},
   "outputs": [],
   "source": [
    "def evaluation_models(models:dict,\n",
    "                      X:pd.DataFrame, \n",
    "                      y:list,\n",
    "                      train:bool = False) -> dict:\n",
    "    \"\"\"Evaluation all models in the given dictionary by score R.\n",
    "    Keeping in view the degree number, if any.\n",
    "\n",
    "    Args:\n",
    "        models (dict): Contains model name (key), model and degree number (optional).\n",
    "        X (pd.DataFrame): Features dataframe.\n",
    "        y (list): Target column.\n",
    "        train (bool, optional): Whether to save the score in train_score or test_score. \n",
    "                                if set to True, the score will saved in train_score value dictionary. Defaults to False.\n",
    "\n",
    "    Returns:\n",
    "        (dict): Same given dictionary in addition to the score value for each model.\n",
    "    \"\"\"\n",
    "    for model_id in models:\n",
    "        degree = models[model_id].get('degree') if models[model_id].get('degree') else None\n",
    "        \n",
    "        y_predict = polynomial_model(model = models[model_id]['model'],\n",
    "                                    X=X,\n",
    "                                    y=y,\n",
    "                                    degree=degree,\n",
    "                                    train_model=False,\n",
    "                                    predict_model=True\n",
    "                                    ) if degree else models[model_id]['model'].predict(X)\n",
    "\n",
    "        score = r2_score(y_predict, y)\n",
    "        \n",
    "        if train:\n",
    "            models[model_id][\"Train_Score\"] = score\n",
    "        else:\n",
    "            models[model_id][\"Test_Score\"] = score\n",
    "    \n",
    "    return models"
   ]
  },
  {
   "cell_type": "code",
   "execution_count": 6,
   "metadata": {},
   "outputs": [],
   "source": [
    "# Select All features exclude target feature\n",
    "X = data[data.drop('price', axis=1).columns]\n",
    "y = data['price']\n",
    "\n",
    "# Spliting data to training and testing datasets\n",
    "X_train, X_test, y_train, y_test = train_test_split(X, y, test_size=0.30, random_state=42)"
   ]
  },
  {
   "cell_type": "code",
   "execution_count": 14,
   "metadata": {},
   "outputs": [],
   "source": [
    "# Dictionary contains all models we want to create\n",
    "models = {\n",
    "        'linear': {'model': LinearRegression()},\n",
    "        'ridge1': {'model': Ridge(), 'degree' : 1},\n",
    "        'lasso1': {'model': Lasso(), 'degree' : 1},\n",
    "        'ploy_2': {'model': LinearRegression(), 'degree' : 2},\n",
    "        'ridge2': {'model': Ridge(), 'degree' : 2},\n",
    "        'lasso2': {'model': Lasso(), 'degree' : 2},\n",
    "        'ridge3': {'model': Ridge(), 'degree' : 3},\n",
    "        'lasso3': {'model': Lasso(), 'degree' : 3},\n",
    "        'ploy_3': {'model': LinearRegression(), 'degree' : 3}\n",
    "        }"
   ]
  },
  {
   "cell_type": "code",
   "execution_count": 15,
   "metadata": {},
   "outputs": [
    {
     "name": "stdout",
     "output_type": "stream",
     "text": [
      "Trained ->  {'model': LinearRegression()}\n",
      "Trained ->  {'model': Ridge(), 'degree': 1}\n",
      "Trained ->  {'model': Lasso(), 'degree': 1}\n",
      "Trained ->  {'model': LinearRegression(), 'degree': 2}\n",
      "Trained ->  {'model': Ridge(), 'degree': 2}\n",
      "Trained ->  {'model': Lasso(), 'degree': 2}\n",
      "Trained ->  {'model': Ridge(), 'degree': 3}\n",
      "Trained ->  {'model': Lasso(), 'degree': 3}\n",
      "Trained ->  {'model': LinearRegression(), 'degree': 3}\n"
     ]
    }
   ],
   "source": [
    "# Training models\n",
    "models = train_models(models, X_train, y_train)"
   ]
  },
  {
   "cell_type": "code",
   "execution_count": 16,
   "metadata": {},
   "outputs": [],
   "source": [
    "# Evaluation models on test dataset by score r^2 metric\n",
    "models = evaluation_models(models, X_test, y_test)"
   ]
  },
  {
   "cell_type": "code",
   "execution_count": 17,
   "metadata": {},
   "outputs": [],
   "source": [
    "# Evaluation models on train dataset by score r^2 metric\n",
    "models = evaluation_models(models, X_train, y_train, train=True)"
   ]
  },
  {
   "cell_type": "code",
   "execution_count": 18,
   "metadata": {},
   "outputs": [
    {
     "name": "stdout",
     "output_type": "stream",
     "text": [
      "Train Score for  linear  :  57.942455024652894\n",
      "Test Score for  linear  :  52.799529013943946\n",
      "\n",
      "Train Score for  ridge1  :  57.534565943638604\n",
      "Test Score for  ridge1  :  52.29747226282498\n",
      "\n",
      "Train Score for  lasso1  :  -2956.83424061693\n",
      "Test Score for  lasso1  :  -2924.276595503748\n",
      "\n",
      "Train Score for  ploy_2  :  86.08465130897885\n",
      "Test Score for  ploy_2  :  -0.05414065159676795\n",
      "\n",
      "Train Score for  ridge2  :  81.82254979256265\n",
      "Test Score for  ridge2  :  60.46260249830118\n",
      "\n",
      "Train Score for  lasso2  :  0.8252827689458009\n",
      "Test Score for  lasso2  :  -2.0195787705586277\n",
      "\n",
      "Train Score for  ridge3  :  95.65429055205036\n",
      "Test Score for  ridge3  :  17.614790535556867\n",
      "\n",
      "Train Score for  lasso3  :  32.19395431808836\n",
      "Test Score for  lasso3  :  23.1899662861356\n",
      "\n",
      "Train Score for  ploy_3  :  97.4323629398123\n",
      "Test Score for  ploy_3  :  -0.8212410230761247\n",
      "\n"
     ]
    }
   ],
   "source": [
    "# Display score value on the test dataset for each model \n",
    "for model in models.keys():\n",
    "    print('Train Score for ', model,' : ', models[model]['Train_Score']*100)\n",
    "    print('Test Score for ', model,' : ', models[model]['Test_Score']*100, end='\\n\\n')"
   ]
  }
 ],
 "metadata": {
  "kernelspec": {
   "display_name": "Python 3.10.0 ('.venv': venv)",
   "language": "python",
   "name": "python3"
  },
  "language_info": {
   "codemirror_mode": {
    "name": "ipython",
    "version": 3
   },
   "file_extension": ".py",
   "mimetype": "text/x-python",
   "name": "python",
   "nbconvert_exporter": "python",
   "pygments_lexer": "ipython3",
   "version": "3.10.0"
  },
  "orig_nbformat": 4,
  "vscode": {
   "interpreter": {
    "hash": "90058bf574df45dff5551cc98fef7be5399eef6c5fca100433bb3902fe599ea9"
   }
  }
 },
 "nbformat": 4,
 "nbformat_minor": 2
}
