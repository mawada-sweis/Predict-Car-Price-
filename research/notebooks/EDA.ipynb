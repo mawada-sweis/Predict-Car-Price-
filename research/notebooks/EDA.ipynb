{
 "cells": [
  {
   "cell_type": "markdown",
   "metadata": {},
   "source": [
    "# Necessary Library"
   ]
  },
  {
   "cell_type": "code",
   "execution_count": 237,
   "metadata": {},
   "outputs": [],
   "source": [
    "import pandas as pd\n",
    "from sklearn.impute import KNNImputer\n",
    "import numpy as np"
   ]
  },
  {
   "cell_type": "markdown",
   "metadata": {},
   "source": [
    "# 0. Upload data"
   ]
  },
  {
   "cell_type": "code",
   "execution_count": 238,
   "metadata": {},
   "outputs": [],
   "source": [
    "data = pd.read_csv('../../data/data.csv')"
   ]
  },
  {
   "cell_type": "markdown",
   "metadata": {},
   "source": [
    "# 1. Understand your data"
   ]
  },
  {
   "cell_type": "markdown",
   "metadata": {},
   "source": [
    "## Display head of Data"
   ]
  },
  {
   "cell_type": "code",
   "execution_count": 239,
   "metadata": {},
   "outputs": [
    {
     "data": {
      "text/html": [
       "<div>\n",
       "<style scoped>\n",
       "    .dataframe tbody tr th:only-of-type {\n",
       "        vertical-align: middle;\n",
       "    }\n",
       "\n",
       "    .dataframe tbody tr th {\n",
       "        vertical-align: top;\n",
       "    }\n",
       "\n",
       "    .dataframe thead th {\n",
       "        text-align: right;\n",
       "    }\n",
       "</style>\n",
       "<table border=\"1\" class=\"dataframe\">\n",
       "  <thead>\n",
       "    <tr style=\"text-align: right;\">\n",
       "      <th></th>\n",
       "      <th>Unnamed: 0</th>\n",
       "      <th>name</th>\n",
       "      <th>model</th>\n",
       "      <th>price</th>\n",
       "      <th>color</th>\n",
       "      <th>fuel_type</th>\n",
       "      <th>origin_car</th>\n",
       "      <th>car_license</th>\n",
       "      <th>lime_type</th>\n",
       "      <th>glass</th>\n",
       "      <th>...</th>\n",
       "      <th>payment_method</th>\n",
       "      <th>displayed</th>\n",
       "      <th>ex_owners</th>\n",
       "      <th>additional_info</th>\n",
       "      <th>insurance_third</th>\n",
       "      <th>supplementary_body</th>\n",
       "      <th>total</th>\n",
       "      <th>ads_status</th>\n",
       "      <th>ads_start_data</th>\n",
       "      <th>ads_end_data</th>\n",
       "    </tr>\n",
       "  </thead>\n",
       "  <tbody>\n",
       "    <tr>\n",
       "      <th>0</th>\n",
       "      <td>0</td>\n",
       "      <td>كيا اوبتيما</td>\n",
       "      <td>2014</td>\n",
       "      <td>100000</td>\n",
       "      <td>أبيض عاجي</td>\n",
       "      <td>بنزين</td>\n",
       "      <td>خصوصي</td>\n",
       "      <td>فلسطينية</td>\n",
       "      <td>اوتوماتيك</td>\n",
       "      <td>الكتروني</td>\n",
       "      <td>...</td>\n",
       "      <td>نقدا فقط</td>\n",
       "      <td>للبيع فقط</td>\n",
       "      <td>يد اولى</td>\n",
       "      <td>مُكيّف,إغلاق مركزي,جهاز إنذار,مسجل CD,فتحة سقف...</td>\n",
       "      <td>1340.0</td>\n",
       "      <td>1751.0</td>\n",
       "      <td>3090.0</td>\n",
       "      <td>منتهي</td>\n",
       "      <td>2017-08-16</td>\n",
       "      <td>2017-09-15</td>\n",
       "    </tr>\n",
       "    <tr>\n",
       "      <th>1</th>\n",
       "      <td>1</td>\n",
       "      <td>كيا سورينتو</td>\n",
       "      <td>2007</td>\n",
       "      <td>60000</td>\n",
       "      <td>سكني</td>\n",
       "      <td>ديزل</td>\n",
       "      <td>خصوصي</td>\n",
       "      <td>فلسطينية</td>\n",
       "      <td>نصف اوتوماتيك</td>\n",
       "      <td>الكتروني</td>\n",
       "      <td>...</td>\n",
       "      <td>إمكانية التقسيط</td>\n",
       "      <td>للبيع أو التبديل</td>\n",
       "      <td>2</td>\n",
       "      <td>مُكيّف,إغلاق مركزي,جهاز إنذار,مسجل CD,فتحة سقف...</td>\n",
       "      <td>1690.0</td>\n",
       "      <td>1050.0</td>\n",
       "      <td>2740.0</td>\n",
       "      <td>منتهي</td>\n",
       "      <td>2017-08-16</td>\n",
       "      <td>2017-09-30</td>\n",
       "    </tr>\n",
       "    <tr>\n",
       "      <th>2</th>\n",
       "      <td>2</td>\n",
       "      <td>هونداي افانتي</td>\n",
       "      <td>2006</td>\n",
       "      <td>43500</td>\n",
       "      <td>سكني</td>\n",
       "      <td>بنزين</td>\n",
       "      <td>خصوصي</td>\n",
       "      <td>فلسطينية</td>\n",
       "      <td>اوتوماتيك</td>\n",
       "      <td>الكتروني</td>\n",
       "      <td>...</td>\n",
       "      <td>نقدا فقط</td>\n",
       "      <td>للبيع فقط</td>\n",
       "      <td>NaN</td>\n",
       "      <td>مُكيّف,إغلاق مركزي,جهاز إنذار,مسجل CD,جنطات مغ...</td>\n",
       "      <td>1340.0</td>\n",
       "      <td>1000.0</td>\n",
       "      <td>2340.0</td>\n",
       "      <td>منتهي</td>\n",
       "      <td>2017-08-19</td>\n",
       "      <td>2017-09-18</td>\n",
       "    </tr>\n",
       "    <tr>\n",
       "      <th>3</th>\n",
       "      <td>3</td>\n",
       "      <td>فيات 127</td>\n",
       "      <td>1982</td>\n",
       "      <td>5500</td>\n",
       "      <td>بيج</td>\n",
       "      <td>بنزين</td>\n",
       "      <td>خصوصي</td>\n",
       "      <td>فلسطينية</td>\n",
       "      <td>عادي</td>\n",
       "      <td>يدوي</td>\n",
       "      <td>...</td>\n",
       "      <td>إمكانية التقسيط</td>\n",
       "      <td>للبيع فقط</td>\n",
       "      <td>00</td>\n",
       "      <td>مُكيّف,مسجل CD</td>\n",
       "      <td>467.0</td>\n",
       "      <td>500.0</td>\n",
       "      <td>967.0</td>\n",
       "      <td>منتهي</td>\n",
       "      <td>2017-08-17</td>\n",
       "      <td>2017-09-22</td>\n",
       "    </tr>\n",
       "    <tr>\n",
       "      <th>4</th>\n",
       "      <td>4</td>\n",
       "      <td>بيجو 208</td>\n",
       "      <td>2014</td>\n",
       "      <td>54000</td>\n",
       "      <td>فضي</td>\n",
       "      <td>بنزين</td>\n",
       "      <td>خصوصي</td>\n",
       "      <td>فلسطينية</td>\n",
       "      <td>اوتوماتيك</td>\n",
       "      <td>الكتروني</td>\n",
       "      <td>...</td>\n",
       "      <td>نقدا فقط</td>\n",
       "      <td>للبيع فقط</td>\n",
       "      <td>NaN</td>\n",
       "      <td>مُكيّف,إغلاق مركزي,جهاز إنذار,جنطات مغنيسيوم,و...</td>\n",
       "      <td>1035.0</td>\n",
       "      <td>1000.0</td>\n",
       "      <td>2035.0</td>\n",
       "      <td>منتهي</td>\n",
       "      <td>2017-08-17</td>\n",
       "      <td>2017-10-01</td>\n",
       "    </tr>\n",
       "  </tbody>\n",
       "</table>\n",
       "<p>5 rows × 23 columns</p>\n",
       "</div>"
      ],
      "text/plain": [
       "   Unnamed: 0           name  model   price       color fuel_type origin_car  \\\n",
       "0           0    كيا اوبتيما   2014  100000  أبيض عاجي     بنزين      خصوصي    \n",
       "1           1    كيا سورينتو   2007   60000       سكني      ديزل      خصوصي    \n",
       "2           2  هونداي افانتي   2006   43500       سكني     بنزين      خصوصي    \n",
       "3           3       فيات 127   1982    5500        بيج     بنزين      خصوصي    \n",
       "4           4       بيجو 208   2014   54000        فضي     بنزين      خصوصي    \n",
       "\n",
       "  car_license       lime_type      glass  ...    payment_method  \\\n",
       "0   فلسطينية       اوتوماتيك   الكتروني   ...         نقدا فقط    \n",
       "1   فلسطينية   نصف اوتوماتيك   الكتروني   ...  إمكانية التقسيط    \n",
       "2   فلسطينية       اوتوماتيك   الكتروني   ...         نقدا فقط    \n",
       "3   فلسطينية            عادي       يدوي   ...  إمكانية التقسيط    \n",
       "4   فلسطينية       اوتوماتيك   الكتروني   ...         نقدا فقط    \n",
       "\n",
       "           displayed ex_owners  \\\n",
       "0         للبيع فقط   يد اولى    \n",
       "1  للبيع أو التبديل         2    \n",
       "2         للبيع فقط        NaN   \n",
       "3         للبيع فقط       00     \n",
       "4         للبيع فقط        NaN   \n",
       "\n",
       "                                     additional_info insurance_third  \\\n",
       "0  مُكيّف,إغلاق مركزي,جهاز إنذار,مسجل CD,فتحة سقف...          1340.0   \n",
       "1  مُكيّف,إغلاق مركزي,جهاز إنذار,مسجل CD,فتحة سقف...          1690.0   \n",
       "2  مُكيّف,إغلاق مركزي,جهاز إنذار,مسجل CD,جنطات مغ...          1340.0   \n",
       "3                                     مُكيّف,مسجل CD           467.0   \n",
       "4  مُكيّف,إغلاق مركزي,جهاز إنذار,جنطات مغنيسيوم,و...          1035.0   \n",
       "\n",
       "  supplementary_body   total  ads_status  ads_start_data  ads_end_data  \n",
       "0             1751.0  3090.0       منتهي      2017-08-16    2017-09-15  \n",
       "1             1050.0  2740.0       منتهي      2017-08-16    2017-09-30  \n",
       "2             1000.0  2340.0       منتهي      2017-08-19    2017-09-18  \n",
       "3              500.0   967.0       منتهي      2017-08-17    2017-09-22  \n",
       "4             1000.0  2035.0       منتهي      2017-08-17    2017-10-01  \n",
       "\n",
       "[5 rows x 23 columns]"
      ]
     },
     "execution_count": 239,
     "metadata": {},
     "output_type": "execute_result"
    }
   ],
   "source": [
    "data.head()"
   ]
  },
  {
   "cell_type": "markdown",
   "metadata": {},
   "source": [
    "- We have an Unnamed ID that we can delete\n",
    "- Most of the columns are categorical"
   ]
  },
  {
   "cell_type": "code",
   "execution_count": 240,
   "metadata": {},
   "outputs": [
    {
     "data": {
      "text/plain": [
       "Index(['Unnamed: 0', 'name', 'model', 'price', 'color', 'fuel_type',\n",
       "       'origin_car', 'car_license', 'lime_type', 'glass', 'motor_power',\n",
       "       'car_speedometer', 'passengers', 'payment_method', 'displayed',\n",
       "       'ex_owners', 'additional_info', 'insurance_third', 'supplementary_body',\n",
       "       'total', 'ads_status', 'ads_start_data', 'ads_end_data'],\n",
       "      dtype='object')"
      ]
     },
     "execution_count": 240,
     "metadata": {},
     "output_type": "execute_result"
    }
   ],
   "source": [
    "data.columns"
   ]
  },
  {
   "cell_type": "markdown",
   "metadata": {},
   "source": [
    "## Shape of data"
   ]
  },
  {
   "cell_type": "code",
   "execution_count": 241,
   "metadata": {},
   "outputs": [
    {
     "data": {
      "text/plain": [
       "(6161, 23)"
      ]
     },
     "execution_count": 241,
     "metadata": {},
     "output_type": "execute_result"
    }
   ],
   "source": [
    "data.shape"
   ]
  },
  {
   "cell_type": "markdown",
   "metadata": {},
   "source": [
    "## Decribe data"
   ]
  },
  {
   "cell_type": "code",
   "execution_count": 242,
   "metadata": {},
   "outputs": [
    {
     "data": {
      "text/html": [
       "<div>\n",
       "<style scoped>\n",
       "    .dataframe tbody tr th:only-of-type {\n",
       "        vertical-align: middle;\n",
       "    }\n",
       "\n",
       "    .dataframe tbody tr th {\n",
       "        vertical-align: top;\n",
       "    }\n",
       "\n",
       "    .dataframe thead th {\n",
       "        text-align: right;\n",
       "    }\n",
       "</style>\n",
       "<table border=\"1\" class=\"dataframe\">\n",
       "  <thead>\n",
       "    <tr style=\"text-align: right;\">\n",
       "      <th></th>\n",
       "      <th>name</th>\n",
       "      <th>color</th>\n",
       "      <th>fuel_type</th>\n",
       "      <th>origin_car</th>\n",
       "      <th>car_license</th>\n",
       "      <th>lime_type</th>\n",
       "      <th>glass</th>\n",
       "      <th>car_speedometer</th>\n",
       "      <th>passengers</th>\n",
       "      <th>payment_method</th>\n",
       "      <th>displayed</th>\n",
       "      <th>ex_owners</th>\n",
       "      <th>additional_info</th>\n",
       "      <th>ads_status</th>\n",
       "      <th>ads_start_data</th>\n",
       "      <th>ads_end_data</th>\n",
       "    </tr>\n",
       "  </thead>\n",
       "  <tbody>\n",
       "    <tr>\n",
       "      <th>count</th>\n",
       "      <td>6161</td>\n",
       "      <td>6161</td>\n",
       "      <td>6161</td>\n",
       "      <td>6161</td>\n",
       "      <td>6161</td>\n",
       "      <td>6161</td>\n",
       "      <td>6161</td>\n",
       "      <td>4380</td>\n",
       "      <td>5447</td>\n",
       "      <td>6161</td>\n",
       "      <td>6161</td>\n",
       "      <td>4661</td>\n",
       "      <td>5715</td>\n",
       "      <td>6161</td>\n",
       "      <td>6161</td>\n",
       "      <td>6161</td>\n",
       "    </tr>\n",
       "    <tr>\n",
       "      <th>unique</th>\n",
       "      <td>596</td>\n",
       "      <td>26</td>\n",
       "      <td>3</td>\n",
       "      <td>6</td>\n",
       "      <td>2</td>\n",
       "      <td>3</td>\n",
       "      <td>2</td>\n",
       "      <td>1200</td>\n",
       "      <td>43</td>\n",
       "      <td>2</td>\n",
       "      <td>3</td>\n",
       "      <td>339</td>\n",
       "      <td>191</td>\n",
       "      <td>1</td>\n",
       "      <td>1442</td>\n",
       "      <td>1597</td>\n",
       "    </tr>\n",
       "    <tr>\n",
       "      <th>top</th>\n",
       "      <td>سكودا اوكتافيا</td>\n",
       "      <td>أبيض</td>\n",
       "      <td>بنزين</td>\n",
       "      <td>خصوصي</td>\n",
       "      <td>فلسطينية</td>\n",
       "      <td>اوتوماتيك</td>\n",
       "      <td>الكتروني</td>\n",
       "      <td>100000</td>\n",
       "      <td>4+1</td>\n",
       "      <td>نقدا فقط</td>\n",
       "      <td>للبيع فقط</td>\n",
       "      <td>يد اولى</td>\n",
       "      <td>مُكيّف,إغلاق مركزي,جهاز إنذار,مسجل CD,جنطات مغ...</td>\n",
       "      <td>منتهي</td>\n",
       "      <td>2019-09-28</td>\n",
       "      <td>2019-10-28</td>\n",
       "    </tr>\n",
       "    <tr>\n",
       "      <th>freq</th>\n",
       "      <td>446</td>\n",
       "      <td>1292</td>\n",
       "      <td>3594</td>\n",
       "      <td>5211</td>\n",
       "      <td>6090</td>\n",
       "      <td>3195</td>\n",
       "      <td>5662</td>\n",
       "      <td>90</td>\n",
       "      <td>4344</td>\n",
       "      <td>3863</td>\n",
       "      <td>3771</td>\n",
       "      <td>452</td>\n",
       "      <td>1100</td>\n",
       "      <td>6161</td>\n",
       "      <td>14</td>\n",
       "      <td>13</td>\n",
       "    </tr>\n",
       "  </tbody>\n",
       "</table>\n",
       "</div>"
      ],
      "text/plain": [
       "                  name  color fuel_type origin_car car_license   lime_type  \\\n",
       "count             6161   6161      6161       6161        6161        6161   \n",
       "unique             596     26         3          6           2           3   \n",
       "top     سكودا اوكتافيا  أبيض     بنزين      خصوصي    فلسطينية   اوتوماتيك    \n",
       "freq               446   1292      3594       5211        6090        3195   \n",
       "\n",
       "            glass car_speedometer passengers payment_method   displayed  \\\n",
       "count        6161            4380       5447           6161        6161   \n",
       "unique          2            1200         43              2           3   \n",
       "top     الكتروني          100000        4+1       نقدا فقط   للبيع فقط    \n",
       "freq         5662              90       4344           3863        3771   \n",
       "\n",
       "       ex_owners                                    additional_info  \\\n",
       "count       4661                                               5715   \n",
       "unique       339                                                191   \n",
       "top     يد اولى   مُكيّف,إغلاق مركزي,جهاز إنذار,مسجل CD,جنطات مغ...   \n",
       "freq         452                                               1100   \n",
       "\n",
       "       ads_status ads_start_data ads_end_data  \n",
       "count        6161           6161         6161  \n",
       "unique          1           1442         1597  \n",
       "top         منتهي     2019-09-28   2019-10-28  \n",
       "freq         6161             14           13  "
      ]
     },
     "execution_count": 242,
     "metadata": {},
     "output_type": "execute_result"
    }
   ],
   "source": [
    "# Category features\n",
    "data.describe(include='O')"
   ]
  },
  {
   "cell_type": "markdown",
   "metadata": {},
   "source": [
    "- We have 596 different automobile models, with the Skoda Octavia being the most popular.\n",
    "\n",
    "- Car License, Origin Car, Glass, their unique value was replicated 6090 out of 6161, and it appears that it will be useless.\n",
    "\n",
    "- Because the advertisements status has a unit value, it is useless."
   ]
  },
  {
   "cell_type": "code",
   "execution_count": 243,
   "metadata": {},
   "outputs": [
    {
     "data": {
      "text/html": [
       "<div>\n",
       "<style scoped>\n",
       "    .dataframe tbody tr th:only-of-type {\n",
       "        vertical-align: middle;\n",
       "    }\n",
       "\n",
       "    .dataframe tbody tr th {\n",
       "        vertical-align: top;\n",
       "    }\n",
       "\n",
       "    .dataframe thead th {\n",
       "        text-align: right;\n",
       "    }\n",
       "</style>\n",
       "<table border=\"1\" class=\"dataframe\">\n",
       "  <thead>\n",
       "    <tr style=\"text-align: right;\">\n",
       "      <th></th>\n",
       "      <th>Unnamed: 0</th>\n",
       "      <th>model</th>\n",
       "      <th>price</th>\n",
       "      <th>motor_power</th>\n",
       "      <th>insurance_third</th>\n",
       "      <th>supplementary_body</th>\n",
       "      <th>total</th>\n",
       "    </tr>\n",
       "  </thead>\n",
       "  <tbody>\n",
       "    <tr>\n",
       "      <th>count</th>\n",
       "      <td>6161.000000</td>\n",
       "      <td>6161.000000</td>\n",
       "      <td>6161.000000</td>\n",
       "      <td>6161.000000</td>\n",
       "      <td>6152.000000</td>\n",
       "      <td>6152.000000</td>\n",
       "      <td>6152.000000</td>\n",
       "    </tr>\n",
       "    <tr>\n",
       "      <th>mean</th>\n",
       "      <td>3080.000000</td>\n",
       "      <td>2008.229021</td>\n",
       "      <td>65293.567603</td>\n",
       "      <td>1740.785100</td>\n",
       "      <td>1148.600618</td>\n",
       "      <td>1244.490897</td>\n",
       "      <td>2392.950910</td>\n",
       "    </tr>\n",
       "    <tr>\n",
       "      <th>std</th>\n",
       "      <td>1778.671836</td>\n",
       "      <td>8.752494</td>\n",
       "      <td>56326.044654</td>\n",
       "      <td>589.016536</td>\n",
       "      <td>313.160799</td>\n",
       "      <td>899.502486</td>\n",
       "      <td>1080.223525</td>\n",
       "    </tr>\n",
       "    <tr>\n",
       "      <th>min</th>\n",
       "      <td>0.000000</td>\n",
       "      <td>1967.000000</td>\n",
       "      <td>1200.000000</td>\n",
       "      <td>106.000000</td>\n",
       "      <td>467.000000</td>\n",
       "      <td>500.000000</td>\n",
       "      <td>967.000000</td>\n",
       "    </tr>\n",
       "    <tr>\n",
       "      <th>25%</th>\n",
       "      <td>1540.000000</td>\n",
       "      <td>2005.000000</td>\n",
       "      <td>35000.000000</td>\n",
       "      <td>1400.000000</td>\n",
       "      <td>1035.000000</td>\n",
       "      <td>1000.000000</td>\n",
       "      <td>2035.000000</td>\n",
       "    </tr>\n",
       "    <tr>\n",
       "      <th>50%</th>\n",
       "      <td>3080.000000</td>\n",
       "      <td>2010.000000</td>\n",
       "      <td>54500.000000</td>\n",
       "      <td>1600.000000</td>\n",
       "      <td>1340.000000</td>\n",
       "      <td>1000.000000</td>\n",
       "      <td>2340.000000</td>\n",
       "    </tr>\n",
       "    <tr>\n",
       "      <th>75%</th>\n",
       "      <td>4620.000000</td>\n",
       "      <td>2015.000000</td>\n",
       "      <td>80000.000000</td>\n",
       "      <td>2000.000000</td>\n",
       "      <td>1340.000000</td>\n",
       "      <td>1401.000000</td>\n",
       "      <td>2740.000000</td>\n",
       "    </tr>\n",
       "    <tr>\n",
       "      <th>max</th>\n",
       "      <td>6160.000000</td>\n",
       "      <td>2021.000000</td>\n",
       "      <td>999999.000000</td>\n",
       "      <td>9000.000000</td>\n",
       "      <td>1690.000000</td>\n",
       "      <td>17500.000000</td>\n",
       "      <td>18535.000000</td>\n",
       "    </tr>\n",
       "  </tbody>\n",
       "</table>\n",
       "</div>"
      ],
      "text/plain": [
       "        Unnamed: 0        model          price  motor_power  insurance_third  \\\n",
       "count  6161.000000  6161.000000    6161.000000  6161.000000      6152.000000   \n",
       "mean   3080.000000  2008.229021   65293.567603  1740.785100      1148.600618   \n",
       "std    1778.671836     8.752494   56326.044654   589.016536       313.160799   \n",
       "min       0.000000  1967.000000    1200.000000   106.000000       467.000000   \n",
       "25%    1540.000000  2005.000000   35000.000000  1400.000000      1035.000000   \n",
       "50%    3080.000000  2010.000000   54500.000000  1600.000000      1340.000000   \n",
       "75%    4620.000000  2015.000000   80000.000000  2000.000000      1340.000000   \n",
       "max    6160.000000  2021.000000  999999.000000  9000.000000      1690.000000   \n",
       "\n",
       "       supplementary_body         total  \n",
       "count         6152.000000   6152.000000  \n",
       "mean          1244.490897   2392.950910  \n",
       "std            899.502486   1080.223525  \n",
       "min            500.000000    967.000000  \n",
       "25%           1000.000000   2035.000000  \n",
       "50%           1000.000000   2340.000000  \n",
       "75%           1401.000000   2740.000000  \n",
       "max          17500.000000  18535.000000  "
      ]
     },
     "execution_count": 243,
     "metadata": {},
     "output_type": "execute_result"
    }
   ],
   "source": [
    "# Numerical features\n",
    "data.describe()"
   ]
  },
  {
   "cell_type": "markdown",
   "metadata": {},
   "source": [
    "- Model is a category because it is a year, not a number.\n",
    "- Insurance Third has skewed left\n",
    "- Total and motor power feel normal\n",
    "- Price has skewed right"
   ]
  },
  {
   "cell_type": "markdown",
   "metadata": {},
   "source": [
    "## Basic Information"
   ]
  },
  {
   "cell_type": "code",
   "execution_count": 244,
   "metadata": {},
   "outputs": [
    {
     "name": "stdout",
     "output_type": "stream",
     "text": [
      "<class 'pandas.core.frame.DataFrame'>\n",
      "RangeIndex: 6161 entries, 0 to 6160\n",
      "Data columns (total 23 columns):\n",
      " #   Column              Non-Null Count  Dtype  \n",
      "---  ------              --------------  -----  \n",
      " 0   Unnamed: 0          6161 non-null   int64  \n",
      " 1   name                6161 non-null   object \n",
      " 2   model               6161 non-null   int64  \n",
      " 3   price               6161 non-null   int64  \n",
      " 4   color               6161 non-null   object \n",
      " 5   fuel_type           6161 non-null   object \n",
      " 6   origin_car          6161 non-null   object \n",
      " 7   car_license         6161 non-null   object \n",
      " 8   lime_type           6161 non-null   object \n",
      " 9   glass               6161 non-null   object \n",
      " 10  motor_power         6161 non-null   int64  \n",
      " 11  car_speedometer     4380 non-null   object \n",
      " 12  passengers          5447 non-null   object \n",
      " 13  payment_method      6161 non-null   object \n",
      " 14  displayed           6161 non-null   object \n",
      " 15  ex_owners           4661 non-null   object \n",
      " 16  additional_info     5715 non-null   object \n",
      " 17  insurance_third     6152 non-null   float64\n",
      " 18  supplementary_body  6152 non-null   float64\n",
      " 19  total               6152 non-null   float64\n",
      " 20  ads_status          6161 non-null   object \n",
      " 21  ads_start_data      6161 non-null   object \n",
      " 22  ads_end_data        6161 non-null   object \n",
      "dtypes: float64(3), int64(4), object(16)\n",
      "memory usage: 1.1+ MB\n"
     ]
    }
   ],
   "source": [
    "data.info()"
   ]
  },
  {
   "cell_type": "markdown",
   "metadata": {},
   "source": [
    "- We have 3 types of data (object, number and float)\n",
    "- There are some missing values"
   ]
  },
  {
   "cell_type": "markdown",
   "metadata": {},
   "source": [
    "# Cleaning Data"
   ]
  },
  {
   "cell_type": "markdown",
   "metadata": {},
   "source": [
    "## Before Handle Nan values"
   ]
  },
  {
   "cell_type": "markdown",
   "metadata": {},
   "source": [
    "### Handle Passengers Column"
   ]
  },
  {
   "cell_type": "code",
   "execution_count": 245,
   "metadata": {},
   "outputs": [],
   "source": [
    "import math"
   ]
  },
  {
   "cell_type": "code",
   "execution_count": 246,
   "metadata": {},
   "outputs": [
    {
     "data": {
      "text/plain": [
       "array([ 5.,  8., nan,  6.,  7.,  3.,  1.,  4.,  2.,  9.,  0., 10.])"
      ]
     },
     "execution_count": 246,
     "metadata": {},
     "output_type": "execute_result"
    }
   ],
   "source": [
    "passengers:list = []\n",
    "\n",
    "for row in data['passengers']:\n",
    "    sum_digit = 0\n",
    "    if pd.isna(row):\n",
    "        passengers.append(np.NaN)\n",
    "        continue\n",
    "    for char in str(row):\n",
    "        if char.isdigit():\n",
    "            int_char = int(char)\n",
    "            sum_digit = sum_digit + int_char\n",
    "    passengers.append(sum_digit)\n",
    "\n",
    "data['passengers'] = pd.Series(passengers).copy()\n",
    "data['passengers'].unique()"
   ]
  },
  {
   "cell_type": "markdown",
   "metadata": {},
   "source": [
    "### Handle ex_owner Column "
   ]
  },
  {
   "cell_type": "code",
   "execution_count": 247,
   "metadata": {},
   "outputs": [
    {
     "data": {
      "text/plain": [
       "array(['يد اولى ', '2 ', nan, '00  ', '0 ', '1 ', 'يد ثانية ', '4 ',\n",
       "       'يد ثانيه ', '3 ', 'ثالثة ', 'غير منمر استيراد الماني ', '00 ',\n",
       "       'غير منمرة ', 'أولى ', '٨ ', 'يد اولا ', 'يد ثالثة ', 'يد ثالثة  ',\n",
       "       'ثانية ', 'يد أولى ', 'يد سادسة ', '5 ', 'اولى  ', 'صفر ', '9 ',\n",
       "       '0000 ', 'رابعه ', 'يد أولى  ', '٤ ', 'يد رابعة  ', '٢ ',\n",
       "       'يد ثالثه ', '6 ', 'يد اولى  ', '7 ', '... ', 'يد ثانيه  ',\n",
       "       'يد أولى استيراد ', 'يد اولي 1 ', 'اولى ', '...... ', 'ثانيه ',\n",
       "       'واحد ', 'اربعة ', 'اولا ', '٣ ', 'غير منمره ', 'يد تالته ', '٦ ',\n",
       "       'يد رابعه ', 'يد ثالثة ( فتيات) ', '159000 ', '12 ', '- ',\n",
       "       'مش منمر ', '0 مستورده ', 'يد تانيه ', '10 ', 'يد 1 ', 'مستورد ',\n",
       "       'يد 4 ', 'يد رابعة ', '00000 ', '١ ', 'استيراد مباشر من كوريا  ',\n",
       "       'يد خامسة ', '٥ ', 'يد 5 ', '******** ', 'نعم ', 'مش منمرة  ',\n",
       "       'يد 3 ', ' يد ثانيه ', 'يداولى ', '4  ', 'يد أولى وكالة ',\n",
       "       'يد خامسه ', 'يد ثانية  ', '٩ ', '٧ ', 'يدو اولى ', 'للبيع  ',\n",
       "       '8 ', 'يد واله ', 'مش منمره ', 'ثالثه ', 'اول ', '11 ', '٠ ',\n",
       "       'رابعة ', ' منمره  ', '2  ', '0مستورد ', '03 ', 'يد 2 ', 'ثالثة  ',\n",
       "       'يد ولا ', 'يد عاشره ', 'يدثانيه  ', 'لا يوجد ', '56 ', '. ',\n",
       "       '١١ ', 'لايوجد ', 'مستورد شركة  ', '13 ', '١٠ ', 'ايد ثانيه ',\n",
       "       'يد صفر  ', 'يد اولى شركة ', 'استيراد الماني ', 'يد. اولى ',\n",
       "       'يد ثالثه  ', '16 ', 'غير منمر  ', '17 ', 'يد تاسعة ',\n",
       "       'مستود غير منمر ', 'يد ٢ ', 'اثنان ', 'ياولى ', 'يد3 ', 'يد صفر ',\n",
       "       '0استيراد  ', 'يد اول  ', 'يد اولى وكالة ', ' يد ثانية ',\n",
       "       'يد تاني ', 'يد ثني ', 'يد اولى  اصل شركة ', '......... ',\n",
       "       'مش منمرة ', 'يدثالثة ', 'يد اولي ', 'يد اولى اصحاب سابقون 0 ',\n",
       "       'يد خامساً  ', '000000 ', 'اصحاب سابقون صفر ', 'اوله ', 'يداولا ',\n",
       "       'يد4 ', '000 ', 'يد ٤ بس نخب السيارة ', 'يد ثالث ', 'أولى  ',\n",
       "       'مش منمرا ', 'يدثانيه ', 'وارد كوريا يد اولى ', '78888877766 ',\n",
       "       '١٥ ', 'يد ثاتيه ', '********** ', 'مستوردة غير مرخصة ',\n",
       "       'يد تانية ', 'صفر  ', '170000 ', '15 ', '١٢ ', 'مستوردة ', 'صفرض ',\n",
       "       '0 مستورد كوري ', 'ايد 2 ', 'غير منمرة  ', '٠٠٠٠ ', '١٨ ', 'يد ٤ ',\n",
       "       ' 2 ', 'يد ولى ', 'أيد تانية ', 'يد اولى صفر كيلو  ', '@ ',\n",
       "       'اوله  ', 'يدثانية ', '٠٠٠٠٠٠٠٠٠ ', 'استراد شخصي ', '00000000 ',\n",
       "       'يد خامسة  ', 'مستورده يد اولى ', '٠٠٠٠٠٠ ', '****** ',\n",
       "       'ايد اولى ', 'تانيه ', 'غير منمر ', ' استيراد الماني ',\n",
       "       '٠٠٠٠٠٠٠٠٠٠ ', 'يد خمسة ', 'خمسه ', 'استيراد كوري ', 'يد6 ',\n",
       "       '  6 ', '1  ', ' 5 ', '2يد  ', '٠٠ ', 'يدتانيه ', 'يدخامسه ',\n",
       "       '.... ', 'يد 6 ', 'يد أولئ أصحاب سابقون صفر ',\n",
       "       'من الشركه مباشر لا يوجد اصحاب سابقون ', 'استيراد ', '123423 ',\n",
       "       'عدد٣ ', 'يد٤ ', 'اصل تدريب سواقه  ', 'تالته ',\n",
       "       'يد أولى بعد الاستيراد ', 'ثانية  ', 'يد ٣ ', 'يد ثاني ', 'يد ١٧ ',\n",
       "       'انا ', '١٧ ', 'يد أولى 1 ', 'يد رابعه  ', 'يد أولي ', 'يد اول ',\n",
       "       'ثانبه ', 'يد سابعة ', '٠٠٠٠٠٠٠٠ ', 'اشخاص ', 'يد ثاني.  ',\n",
       "       'يد 0 ', 'يد ثامنه ', 'ايد ثانية  ', 'ثمانيه ', 'ايد رابعه ',\n",
       "       'ثالث ', 'استيراد كوريا ', 'ايد اولى  ', 'تانبه ',\n",
       "       'استيراد مباشر من اوروبا  ', ' 1 ', '2يد ', 'يد أولئ  ', 'يد٢ ',\n",
       "       'خمسة ', 'يد اولى فقط ', 'وارد المانيا ', 'خامسة ', 'يد ثانيا ',\n",
       "       'خمس ', 'استراد  ', 'يدثالثه ', 'يد أولى،... ', 'اولى\\x89 ',\n",
       "       'تاني  ', 'Ooo ', 'يد2 ', '٠٠٠٠٠ ', 'يد ا ', 'يد اوله ',\n",
       "       'ايدثانيه ', 'ثاني ', 'فقط يد اولى ', 'يد٣ ', 'سحب شركة ',\n",
       "       'يد اولى، استيراد شخصي ', 'يدو اولى  ', 'شطب ', 'ا ', 'يد اولئ ',\n",
       "       'مستورد  ', 'يد اولى ( شركة ) ', 'مستورده ', '14 ', 'يد التالته ',\n",
       "       '04 ', 'يد اربعه ', '12345 ', '  O ', 'يد٥ ', 'يد  ثانية ',\n",
       "       'يد اولا  ', '1000 ', 'يد سابعه ', ' ايد ثالثه ', 'يدأولى ',\n",
       "       'صفرر ', 'يد ٧  ', 'خامسه ', '، 0 ', '٠٠٠٠٩ ', 'استيراد مباشر ',\n",
       "       'يد تانيه  ', 'اصل شركة ', 'يد ٥ ', ' 0 ', 'يد 8 ', '؟ ', '18 ',\n",
       "       'مستوردة غير منمرة ', 'يد ١ ', 'يد واحدة  ',\n",
       "       'استيراد كوريا - جديد مش منمر ', 'تالثه ', 'مش منمر  ', '3  ',\n",
       "       '0778244 ', 'يداولى سحب شركه ', '.. ', 'يد اولى استيراد شخصي ',\n",
       "       'E ', 'يد ', '19 ', '11111 ', '0 استيراد كوري  ', 'ايد أولى  ',\n",
       "       '0000000 ', 'استيراد المانيا ', 'تانية ', 'يديانيه ',\n",
       "       'استيراد كوريا  ', 'سابعه ', ',3 ', 'يد اولة ', '01 ', '? ',\n",
       "       'يد  ١ ', '٠٠٠٠٠٠٠ ', 'مشطوب ', 'يد اولى الماني  ', 'يد اولىً ',\n",
       "       'ايد ثالثة  ', 'مستورده  ', ' 00 ', 'غير منمرمستوردة ', 'لا شيء ',\n",
       "       'خصوصي  ', 'يد واحد  ', 'يد اةلي ', 'O ', '، ', 'يدى اوله  ',\n",
       "       'مش منمر . (صفر) ', 'رابعه  ', 'أستيراد ألماني  ', '--- ', 'Zero '],\n",
       "      dtype=object)"
      ]
     },
     "execution_count": 247,
     "metadata": {},
     "output_type": "execute_result"
    }
   ],
   "source": [
    "data['ex_owners'].unique()"
   ]
  },
  {
   "cell_type": "code",
   "execution_count": 248,
   "metadata": {},
   "outputs": [],
   "source": [
    "ex_owner:dict = {\n",
    "    'Nan_numaric': [np.NaN, '78888877766', '159000', '170000', '123423', '12345', '1000', '11111', '778244', '١٨', '١١', '١٢', '١٥', '١٧'],\n",
    "    'Nan_value' : [np.NaN, '\\x89', '.','*' , '@', '؟', '-' ,'،', '?', 'اشخاص', 'مس', 'شطب', 'E', 'مشطوب', 'خصوصي', 'للبيع', 'نعم', 'منمره'],\n",
    "    'zero': ['0', '٠', 'صفر', 'صفرض', 'صفرر', 'لا شيء ','Zero','O', 'Ooo', '0',   'غير مرخصة', 'سحب', 'اصل',\n",
    "             'مستورد', 'استيراد', 'مستوردة', 'استراد', 'مستورده', 'وارد', 'استراد', 'أستيراد' ],\n",
    "    'ones' : ['1', 'أولى', 'اولى', 'اولا', 'واحد', 'اول', 'ياولى', 'اوله', 'انا','اولي', 'واله', 'ولا', 'واحدة', 'أولئ', 'ولى',\n",
    "              'أولي', 'اولئ', 'اولة', 'اةلي', '١'],\n",
    "    'ones_numra':['1', 'غير منمرة', 'مش', 'لا يوجد', 'لايوجد','غير','لا يوجد', 'يد ا', 'ا' , 'يد'],\n",
    "    'two' : ['2', 'تانيه', 'ثني', 'تاني', 'ثاتيه', 'تانية', 'ثاني', 'ثانبه', 'تانبه', 'ثانيا', 'يانيه', 'ثانية', 'ثانيه', 'اثنان', '٢'],\n",
    "    'three' : ['3', 'ثالثة', 'ثالثه', 'تالثه', 'تالته', 'ثالث', 'التالته', '٣'],\n",
    "    'four'  : ['4', 'اربعه', 'رابعه', 'اربعة', 'رابعة','٤'],\n",
    "    'five'  : ['5', 'خامسة', 'خامسه', 'خامساً', 'خمسة', 'خمسه', '٥'],\n",
    "    'six'   : ['6', 'سادسة', '٦'],\n",
    "    'seven' : ['7', 'سابعة', 'سابعه', '٧'],\n",
    "    'eight' : ['8', 'ثامنه', 'ثمانيه', '٨'],\n",
    "    'nighn' : ['9', 'تاسعة', '٩'],\n",
    "    'ten'   : ['10', 'عاشره', '١٠']\n",
    "   \n",
    "}"
   ]
  },
  {
   "cell_type": "code",
   "execution_count": 249,
   "metadata": {},
   "outputs": [
    {
     "name": "stderr",
     "output_type": "stream",
     "text": [
      "C:\\Users\\DELL\\AppData\\Local\\Temp\\ipykernel_13548\\3710021957.py:16: SettingWithCopyWarning: \n",
      "A value is trying to be set on a copy of a slice from a DataFrame\n",
      "\n",
      "See the caveats in the documentation: https://pandas.pydata.org/pandas-docs/stable/user_guide/indexing.html#returning-a-view-versus-a-copy\n",
      "  data['ex_owners'].iloc[handle_ex_owner(ex_owner[key])] = float(ex_owner[key][0])\n"
     ]
    },
    {
     "data": {
      "text/plain": [
       "array([1.0, 2.0, nan, 0.0, 4.0, 3.0, 8.0, 5.0, 9.0, 6.0, 7.0],\n",
       "      dtype=object)"
      ]
     },
     "execution_count": 249,
     "metadata": {},
     "output_type": "execute_result"
    }
   ],
   "source": [
    "def handle_ex_owner(search_list):\n",
    "    index = []\n",
    "    for search_word in search_list:\n",
    "        search_word = str(search_word)\n",
    "        count = 0\n",
    "        for item in data['ex_owners']:\n",
    "            item = str(item)\n",
    "            split_item = item.split(' ')\n",
    "            for i in range(len(split_item)):\n",
    "                if search_word in split_item[i]:\n",
    "                    index.append(count)\n",
    "            count += 1\n",
    "    return index\n",
    "\n",
    "for key in ex_owner.keys():\n",
    "   data['ex_owners'].iloc[handle_ex_owner(ex_owner[key])] = float(ex_owner[key][0])\n",
    "\n",
    "data['ex_owners'].unique()"
   ]
  },
  {
   "cell_type": "markdown",
   "metadata": {},
   "source": [
    "### Handle car_speedometer Column"
   ]
  },
  {
   "cell_type": "code",
   "execution_count": 250,
   "metadata": {},
   "outputs": [
    {
     "name": "stderr",
     "output_type": "stream",
     "text": [
      "C:\\Users\\DELL\\AppData\\Local\\Temp\\ipykernel_13548\\1888983739.py:6: SettingWithCopyWarning: \n",
      "A value is trying to be set on a copy of a slice from a DataFrame\n",
      "\n",
      "See the caveats in the documentation: https://pandas.pydata.org/pandas-docs/stable/user_guide/indexing.html#returning-a-view-versus-a-copy\n",
      "  data['car_speedometer'].iloc[index] = item[i]\n",
      "C:\\Users\\DELL\\AppData\\Local\\Temp\\ipykernel_13548\\1888983739.py:9: SettingWithCopyWarning: \n",
      "A value is trying to be set on a copy of a slice from a DataFrame\n",
      "\n",
      "See the caveats in the documentation: https://pandas.pydata.org/pandas-docs/stable/user_guide/indexing.html#returning-a-view-versus-a-copy\n",
      "  data['car_speedometer'].iloc[index] = np.NaN\n"
     ]
    },
    {
     "data": {
      "text/plain": [
       "array(['75000', '130000', nan, '38000', '١٢٣٤٥٦', '50000', '56000',\n",
       "       '460000', '45000', '70000', '79000', '000', '150', '210000', '1',\n",
       "       '20000', '00000000000000000', '113000', '33000', '00000000000000',\n",
       "       '22000', '150000', '29000', '123457', '٢٥٠٠٠٠', '140000', '122000',\n",
       "       '78000', '00000', '900000', '7', '00000000', '65000', '190',\n",
       "       '184000', '200', '30000', '295000', '60000', '143212', '43000',\n",
       "       '71', '160000', '4000', '121000', '9900', '٢٦٠', '0000', '80',\n",
       "       '200000', '60', '124000', '100000', '90000', '000000', '99',\n",
       "       '82000', '32123123', '120', '166000', '275000', '82700', '123000',\n",
       "       '120000', '500000', '18000000', '١٥٠', '80000', '87000', '110000',\n",
       "       '350000', '700000', '55', '٤٠٠٠٠٠', '35000', '380000', '167000',\n",
       "       '140', '160', '123456789', '111111', '94000', '90', '46000', '82',\n",
       "       '51', '280000', '115', '300000', '٤١٠٠٠', '196000', '274000',\n",
       "       '١٢٠٠٠٠', '2000', '٠٠٠٠٠', '136000', '116000', '13700', '132',\n",
       "       '54000', '40', '72000', '12345', '133000', '157', '47', '71000',\n",
       "       '132000', '180000', '47000', '999855', '52000', '5', '30', '٦٥٠٠٠',\n",
       "       '165500', '40000', '٢٥٦٦٦٤', '109000', '100', '39000', '190000',\n",
       "       '١١٣٥٠٠', '74000', '2000000', '91000', '620', '51000', '١٦٠٠',\n",
       "       '1111111', '٣٦٣٦٣٦', '٢٢٠', '490000', '48000', '159000',\n",
       "       '٠٠٠٠٠٠٠٠٠٠٠٠', '000000000', '٦٨٠٠٠', '950000', '93000', '290090',\n",
       "       '58000', '٣٦٠٠٠', '220', '800000', '350', '10000', '16000',\n",
       "       '105000', '32000', '150000000', '١٢٠٠٠', '44000', '84000', '67000',\n",
       "       '290000', '63000', '٤٧٠٠٠', '85', '240', '29500', '8000', '5500',\n",
       "       '1234566677', '41500', '76000', '24000', '١٦٠٠٠٠', '492000',\n",
       "       '٧١٠٠٠', '56', '42000', '195000', '18000', '62000', '250000',\n",
       "       '101', '1234', '230240', '64000', '164000', '145000', '400000',\n",
       "       '0000000', '95000', '25000', '308654', '4', '١٢٠', '33158',\n",
       "       '68000', '٣٠٠٠', '48', '102000', '17000', '١١٤٠٠٠', '207000',\n",
       "       '280', '34000', '00', '123', '100405', '٠٠٠', '20000000', '10002',\n",
       "       '١٥٠٠٠', '185', '٥٧٠٠٠', '0012345', '0000000000', '123456',\n",
       "       '83000', '١١١١١', '6666', '119', '400', '999999', '98000',\n",
       "       '880000', '١٢٠٠٧٦', '1000', '57000', '135000', '91', '٨٠٠٠٠',\n",
       "       '22222222', '134000', '5555444', '15000', '0000000112315', '99999',\n",
       "       '45555', '145', '180', '1354000', '41000', '11111', '550000',\n",
       "       '5400', '85000', '61000', '1234567', '3211230', '١٤٢', '٢١٢٣٠٤٧',\n",
       "       '٧٧٧٧٧٧٧', '77755578', '77000', '١', '300', '٢٢٠٠٠', '165',\n",
       "       '٦٩٠٠٠', '0', '666666', '440000', '170000', '119000', '39',\n",
       "       '115000', '170', '٣٢٠٠٠', '١٣٠٠٠٠', '98800', '69', '790000',\n",
       "       '125000', '199000', '78', '١٤٣', '69000', '49000', '145820',\n",
       "       '73000', '230', '52', '13500', '230000', '31000', '777', '١٤٠٠٠٠',\n",
       "       '٦٨٥١٥', '0000014', '92000', '١٨٠', '٠٠٠٠٠٠', '٥٥٠٠٠٠', '٨٠٠',\n",
       "       '14', '٦٠', '2500000', '٣١٩٧٦٣', '٢٠٠٠٠٠', '١٠٧', '7500', '٦٥٠',\n",
       "       '٧٠٠٠٠', '202000', '187453', '١٧٠٠٠٠', '12000', '66000', '37000',\n",
       "       '112', '١٢٩٠٠٠', '14000', '678890', '710000', '139000', '١٥٠٠٠٠',\n",
       "       '٤٥٠٠٠٠', '19000', '٧٥٠٠٠', '١١٠٠٠٠', '٥٠٠٠٠', '13000', '89700',\n",
       "       '23000', '123888', '21000', '133', '١٠٠٠٠٠', '675000', '٩٠٠٠٠',\n",
       "       '445000', '١٦٩٠٠٠', '175000', '87400', '23821', '112000', '78567',\n",
       "       '٣٠٠٠٠', '168000', '١٨٦٠٠٠', '183737', '555555', '٢٩٠٠٠', '38800',\n",
       "       '54357', '130', '183000', '97000', '٣٥', '١٠٠', '896000', '88000',\n",
       "       '١١', '١٢٦٠٠٠', '165000', '129000', '١٢٣٤٥٦٧٧', '108000', '١٠٨٠٠',\n",
       "       '141540', '٥٥٠٠٠', '١١٥٠٠٠', '28000', '٢٠٠٠٣', '244789', '220000',\n",
       "       '٦٧٠٠٠', '١٢٣', '1000000', '87689', '١١٢', '118000', '70',\n",
       "       '176000', '50', '24489', '٢١٠', '90990800', '٩٢٠٠٠', '٠٩٨٧٧٨٩٠',\n",
       "       '١٢٣٠٠٠', '360', '٣٥٠٠٠', '٠٠٠٠٠٠٠٠٠٠', '55000', '٤٥', '١٣٥',\n",
       "       '٢٠٠', '185000', '13', '49', '757575', '750000', '450000', '172',\n",
       "       '95', '١٩', '11467', '556677', '٠٠٠٠٠٠٠٠', '33360', '٠٠٠٠٠٠٠٠٠',\n",
       "       '216560', '67', '58700', '36000', '١٩٠٠٠٠', '114000', '٩٨', '9977',\n",
       "       '144000', '١٠٦٠٠٠', '١٥٢٠٠٠', '٧٥٤٥٨', '360000', '162000', '92',\n",
       "       '5600000000', '٦٦٠٠٠', '141000', '44', '169000', '53', '44555',\n",
       "       '700', '١٥٥٠٠٠', '١٠٨٠٠٠', '320000', '١٣٠٠٠٠٠', '500', '884000',\n",
       "       '٠٠٠٠', '27000', '٤٤', '٢٠', '117000', '111000', '٨١٠٠٠', '125326',\n",
       "       '٢٤', '137000', '228000', '٣٠٠', '71500', '161000', '146009',\n",
       "       '188000', '٤٤٠٠٠', '153000', '240000', '255000', '0000000000000',\n",
       "       '264400', '٠', '42', '156000', '1466789', '270000', '45',\n",
       "       '0000000000000000000005', '213000', '23100', '9999', '58',\n",
       "       '200069', '89000', '٧٠٠٠', '77', '106000', '٢٠٧٧٦٧', '107000',\n",
       "       '284922', '٤٠٠٠٠', '182000', '257', '00008800', '1300000', '٧٤٠٠٠',\n",
       "       '٤٤٤٤٤٤٤٤٤٤', '79', '57', '١٨٣٠٠٠', '770000', '8500', '65',\n",
       "       '199999', '46500', '٤٩٠٠٠', '١٢٥', '13366', '٧٠', '470000', '63',\n",
       "       '211000', '٣٤٥٦٦٧', '11000', '26000', '١٨٠٠٠٠', '777777', '٣٦٣٠٠٠',\n",
       "       '128', '74500', '١٢٢٠٠٠', '٢٥٠', '٠٠٠٠٠٠٠', '١٦٠', '1230000',\n",
       "       '٦٠٠٠٠', '480000', '١٤٠', '209557', '3500', '5000', '9500',\n",
       "       '118567', '٢٢٠٠٠٠', '١٧٠', '152', '870000', '١٧٦٤٠٣', '19900',\n",
       "       '59000', '143', '15', '277000', '٧٨٠٠٠', '1100000', '١٢٣٤٥',\n",
       "       '32343', '163000', '53000', '٧٥٠', '٦٠٠٠٠٠', '275', '526325',\n",
       "       '250', '821111', '1111', '219', '٢١٥٠٠٠', '157000', '000000000000',\n",
       "       '٢٠٠٠٠٠٠', '103106', '١٠٧٠٠٠', '94500', '121212', '٠٠٠٠٠٠٠٠٠٠٠',\n",
       "       '298000', '00000000000', '٢٦٠٠٠٠', '148372', '٠٠', '40300',\n",
       "       '١٩٧٠٠٠', '٥٠', '160542', '٧٢٠٠٠', '135', '127000', '65788879999',\n",
       "       '١٠٥٠٠٠', '١٢٠٦٧٨', '١٢٤٤٥٦', '16352', '20', '٢٥٠٠٠', '263200',\n",
       "       '123126', '٢٣٠٠٠٠', '٧٧٧٧٧٧', '16822', '22', '450', '152000',\n",
       "       '٨٠٨٨٨٧', '25', '138000', '540000', '٥٤٠٠٠', '117', '87', '262000',\n",
       "       '٢٤٠٠٠', '٧٥٠٠٠٠٠', '١٥٦٠٠٠', '١٧٥٩٠', '٦٢٠٠٠', '1500', '127654',\n",
       "       '٨٠', '٢٠٠٠٠', '١٠٠٠٠', '427374', '٢٥١', '81000', '192', '105',\n",
       "       '103000', '215000', '١١١١١١١', '245', '١٣٥٠٠٠', '420000', '260000',\n",
       "       '١٦٥', '155555', '86000', '9000', '9999999', '35', '26134', '٦٩',\n",
       "       '١٨٠٠٠٠٠', '٦٨٤١٨٦', '192000', '155000', '٣٥٠', '١٩٠', '3000000',\n",
       "       '222', '147000', '99500', '158000', '٤٥٠٠', '186000', '٨٨',\n",
       "       '٢٣٥٦٨٨٠', '٣٣', '١٧٥', '131000', '110', '445677', '10800',\n",
       "       '11112222', '1600000', '٢٤٠٠٠٠', '٢٣٠٠٠', '٠٣٢٥٣٨', '٥٦٦٦٦',\n",
       "       '٥٦٠٠٠', '٤٦', '6000000', '96000', '116', '١٤٢٣١٢', '142000',\n",
       "       '340000', '٩٤٠٠٠', '٤٢٠٠٠', '628939', '3001111', '227000', '٣٣٣٣',\n",
       "       '٧٦٠٠٠', '٧٩', '٩', '233', '93', '126000', '١٥٨٠٠٠', '٢١٣٤٦٦',\n",
       "       '1233', '146000', '285', '290', '١٩٩٠٠٠', '١١٠', '125', '260',\n",
       "       '١٢٣٤٥٦٧٨٩', '١٦٢٠٠', '2600', '٩٥٠٠٠', '٩٠', '197000',\n",
       "       '٨٠٠٠٠٩٩٦٦٥٤٤', '60380', '٦٥٥٠٠', '68', '1007', '٦٠٠٠٠٠٠',\n",
       "       '198000', '١٩٥٠٠٠', '٥٦٧٥٤', '225000', '149000', '٥٥', '٦٤٨٩٠٠٧٥',\n",
       "       '17990', '32', '385000', '٩٩٩٩٩٩', '٨٣٠٠٠', '370000', '١٣٠٠٠',\n",
       "       '37500', '٦١١٢٣٤٥', '580000', '١١١١', '٢٣', '١٢٧٠٠٠', '٦٦٦٠٠',\n",
       "       '43', '245000', '٩٩٩٠٠٠', '١١١٠٠٠', '201788', '141300', '١٣٩٠٠٠',\n",
       "       '٢٧٠', '١٧٥٠٠٠', '١١٦٠٠٠', '١٤٨٠٠٠', '٣٨', '٢٠٠٠', '٥٥٥٥٥٥',\n",
       "       '91500', '٢١٠٠٠٠', '24489057', '٧٥', '129100', '12452',\n",
       "       '111111111111', '٨٠٠٠٠٠', '٤٨٩٩٠', '56700', '28800', '34',\n",
       "       '١٩٨٠٠٠', '85600', '٤٨٠٠٠', '147', '101000', '187000', '210',\n",
       "       '118', '94400', '4444', '١٣٠', '٣٢٠', '٢٩٨٠٠٠', '١٤٠٠٠', '8580050',\n",
       "       '505040', '2400000', '٦٢٠٠٠٠', '٤٥٠٠٠', '16707', '20266', '250882',\n",
       "       '23500', '٣٠٠٠٠٠', '259', '٤٠٠', '٢٣٠', '47500', '١٣١', '١٧٩٠٠٠',\n",
       "       '224000', '١١٣', '٢٨٠', '١٦٥٠٠٠', '400000000', '75218', '١٦٣',\n",
       "       '181000', '76484983', '73', '103151', '13600', '١٧٤', '٨٨٠٠٠',\n",
       "       '٢٧٠٠٠٠', '1800', '128000', '143000', '104000', '62', '٦٧٧٧٧٣',\n",
       "       '٦٦٧٨٩٠', '1900', '١٠٠٨', '1660000', '249000', '267', '89',\n",
       "       '٥٨٠٠٠', '235000', '18500', '١٨٠٠٠', '٠٠٠٠٠٠٠٠٠٩', '108', '١٦٣٠٠٠',\n",
       "       '148', '874757', '75500', '١٢٣٤٠٠٠', '٩٧٠٠٠', '7667888', '١١٣٠٠٠',\n",
       "       '11111111', '6700', '64', '172000', '٢١٦٥٧٨', '٥٩٠٠٠', '٤٧٩٠٠',\n",
       "       '177000', '26', '122457846', '600000', '1001', '390', '218000',\n",
       "       '١٩٠٠٠', '8550', '٧٥٦٨٥٥٤٤٩٩', '١٩٢٠٠٠', '6200000', '186', '121',\n",
       "       '222000', '246000', '٧٥٠٠٠٠', '٦٠٠٠', '1038', '٧٧٧٧٧٧٧٧٧', '١٢٤٤',\n",
       "       '٣٨٠٠٠', '١٧٢٠٠٠', '٢٤٠', '8546541', '1233445', '173000', '٨٦٠٠٠',\n",
       "       '٤٠', '50000000', '194000', '123577', '١١٧٠٠', '320', '865543',\n",
       "       '227500', '156', '11111111111111', '17900', '١١٧٠٠٠', '154000',\n",
       "       '286000', '19500', '49500', '٥١٠٠٠', '123455', '418000', '3000',\n",
       "       '3700', '164', '١٨٥٠٠٠٠', '100000000000', '٩٨٠٠٠', '127', '8654',\n",
       "       '٩٩٩٩٩٩٩٩٩٩', '80500', '١٨٥٠٠٠', '14128', '113800', '١٨٨',\n",
       "       '١٣٨٠٠٠', '٣٢', '122456', '200000000', '15300', '60800',\n",
       "       '352688875', '148000', '458000', '16900', '4445', '36', '530000',\n",
       "       '0010000001', '65288', '123356', '25880', '144', '233000',\n",
       "       '315000', '10006', '241000', '100007', '106', '00658', '253000',\n",
       "       '85650', '102500', '4700', '265000', '99000', '9999999999',\n",
       "       '46554', '20400', '5000000', '520000', '339900', '435675',\n",
       "       '5855558', '88555855', '34765', '189000', '0000000000000000',\n",
       "       '326000', '58041', '14300', '21500', '6000', '158', '7000',\n",
       "       '242000', '390000', '17500', '215', '12222', '16956', '133400',\n",
       "       '264000', '39600', '226', '188', '194045', '193000', '330000',\n",
       "       '1040', '354000', '52555', '33500', '8568996', '177314', '232',\n",
       "       '35555', '368586', '179000', '229000', '35432', '103', '167',\n",
       "       '42315', '544321', '62500', '288', '16500', '80435', '170465',\n",
       "       '205', '94996', '179', '6006869666666686855888', '122', '24500',\n",
       "       '124', '12345568900', '0500000', '178000', '36500', '55432',\n",
       "       '305069', '297000', '6800', '2888', '7000000', '60479'],\n",
       "      dtype=object)"
      ]
     },
     "execution_count": 250,
     "metadata": {},
     "output_type": "execute_result"
    }
   ],
   "source": [
    "index = 0\n",
    "for item in data['car_speedometer']:\n",
    "    item = str(item).split(' ')\n",
    "    for i in range(len(item)): \n",
    "        if item[i].isdigit():\n",
    "            data['car_speedometer'].iloc[index] = item[i]\n",
    "            break\n",
    "        if i == len(item)-1:\n",
    "            data['car_speedometer'].iloc[index] = np.NaN\n",
    "    index += 1\n",
    "\n",
    "data['car_speedometer'].unique()"
   ]
  },
  {
   "cell_type": "markdown",
   "metadata": {},
   "source": [
    "## Nan Values"
   ]
  },
  {
   "cell_type": "code",
   "execution_count": 251,
   "metadata": {},
   "outputs": [
    {
     "data": {
      "text/plain": [
       "car_speedometer       1915\n",
       "passengers             714\n",
       "ex_owners             1632\n",
       "additional_info        446\n",
       "insurance_third          9\n",
       "supplementary_body       9\n",
       "total                    9\n",
       "dtype: int64"
      ]
     },
     "execution_count": 251,
     "metadata": {},
     "output_type": "execute_result"
    }
   ],
   "source": [
    "missing_value_columns = data[data.columns[data.isna().sum() > 0]].isna().sum()\n",
    "missing_value_columns"
   ]
  },
  {
   "cell_type": "code",
   "execution_count": 253,
   "metadata": {},
   "outputs": [],
   "source": [
    "data['additional_info'].fillna(\"No additional value\", inplace=True)"
   ]
  },
  {
   "cell_type": "code",
   "execution_count": 254,
   "metadata": {},
   "outputs": [
    {
     "data": {
      "text/plain": [
       "car_speedometer       1915\n",
       "passengers             714\n",
       "ex_owners             1632\n",
       "insurance_third          9\n",
       "supplementary_body       9\n",
       "total                    9\n",
       "dtype: int64"
      ]
     },
     "execution_count": 254,
     "metadata": {},
     "output_type": "execute_result"
    }
   ],
   "source": [
    "missing_value_columns = data[data.columns[data.isna().sum() > 0]].isna().sum()\n",
    "missing_value_columns "
   ]
  },
  {
   "cell_type": "markdown",
   "metadata": {},
   "source": [
    "### I can use knn for fill missing of numeric columns"
   ]
  },
  {
   "cell_type": "code",
   "execution_count": 255,
   "metadata": {},
   "outputs": [],
   "source": [
    "# define imputer\n",
    "imputer = KNNImputer(n_neighbors=3, weights='uniform', metric='nan_euclidean')\n",
    "\n",
    "# fit on the dataset\n",
    "imputer.fit(data[missing_value_columns.index])\n",
    "\n",
    "# transform the dataset\n",
    "data[missing_value_columns.index] = imputer.transform(data[missing_value_columns.index])"
   ]
  },
  {
   "cell_type": "code",
   "execution_count": 256,
   "metadata": {},
   "outputs": [
    {
     "data": {
      "text/plain": [
       "car_speedometer       0\n",
       "passengers            0\n",
       "ex_owners             0\n",
       "insurance_third       0\n",
       "supplementary_body    0\n",
       "total                 0\n",
       "dtype: int64"
      ]
     },
     "execution_count": 256,
     "metadata": {},
     "output_type": "execute_result"
    }
   ],
   "source": [
    "data[missing_value_columns.index].isna().sum()"
   ]
  },
  {
   "cell_type": "markdown",
   "metadata": {},
   "source": [
    "## Duplicates"
   ]
  },
  {
   "cell_type": "code",
   "execution_count": 257,
   "metadata": {},
   "outputs": [
    {
     "data": {
      "text/plain": [
       "0"
      ]
     },
     "execution_count": 257,
     "metadata": {},
     "output_type": "execute_result"
    }
   ],
   "source": [
    "#Find the duplicates\n",
    "data.duplicated().sum()"
   ]
  },
  {
   "cell_type": "markdown",
   "metadata": {},
   "source": [
    "thers no duplicates values"
   ]
  },
  {
   "cell_type": "markdown",
   "metadata": {},
   "source": [
    "## Data type for data"
   ]
  },
  {
   "cell_type": "code",
   "execution_count": 258,
   "metadata": {},
   "outputs": [
    {
     "data": {
      "text/plain": [
       "Unnamed: 0              int64\n",
       "name                   object\n",
       "model                   int64\n",
       "price                   int64\n",
       "color                  object\n",
       "fuel_type              object\n",
       "origin_car             object\n",
       "car_license            object\n",
       "lime_type              object\n",
       "glass                  object\n",
       "motor_power             int64\n",
       "car_speedometer       float64\n",
       "passengers            float64\n",
       "payment_method         object\n",
       "displayed              object\n",
       "ex_owners             float64\n",
       "additional_info        object\n",
       "insurance_third       float64\n",
       "supplementary_body    float64\n",
       "total                 float64\n",
       "ads_status             object\n",
       "ads_start_data         object\n",
       "ads_end_data           object\n",
       "dtype: object"
      ]
     },
     "execution_count": 258,
     "metadata": {},
     "output_type": "execute_result"
    }
   ],
   "source": [
    "data.dtypes"
   ]
  },
  {
   "cell_type": "markdown",
   "metadata": {},
   "source": [
    "# 2. Preparation and transformation"
   ]
  },
  {
   "cell_type": "markdown",
   "metadata": {},
   "source": [
    "## Drop useless columns"
   ]
  },
  {
   "cell_type": "code",
   "execution_count": null,
   "metadata": {},
   "outputs": [],
   "source": []
  },
  {
   "cell_type": "markdown",
   "metadata": {},
   "source": [
    "## Rename columns "
   ]
  },
  {
   "cell_type": "code",
   "execution_count": null,
   "metadata": {},
   "outputs": [],
   "source": []
  },
  {
   "cell_type": "markdown",
   "metadata": {},
   "source": [
    "## Handle missing values"
   ]
  },
  {
   "cell_type": "code",
   "execution_count": null,
   "metadata": {},
   "outputs": [],
   "source": []
  },
  {
   "cell_type": "markdown",
   "metadata": {},
   "source": [
    "## Handle duplication"
   ]
  },
  {
   "cell_type": "code",
   "execution_count": null,
   "metadata": {},
   "outputs": [],
   "source": []
  },
  {
   "cell_type": "markdown",
   "metadata": {},
   "source": [
    "## create new features"
   ]
  },
  {
   "cell_type": "code",
   "execution_count": null,
   "metadata": {},
   "outputs": [],
   "source": []
  },
  {
   "cell_type": "markdown",
   "metadata": {},
   "source": [
    "# 3. Univariate analysis\n",
    "\n",
    "Iterate through each and every relevant variable and get basic information such as\n",
    "\n",
    "This is the first step of outlier detection. Here's is where you get up and personal with each variable"
   ]
  },
  {
   "cell_type": "markdown",
   "metadata": {},
   "source": [
    "## Histograms"
   ]
  },
  {
   "cell_type": "code",
   "execution_count": null,
   "metadata": {},
   "outputs": [],
   "source": []
  },
  {
   "cell_type": "markdown",
   "metadata": {},
   "source": [
    "## value counts"
   ]
  },
  {
   "cell_type": "code",
   "execution_count": null,
   "metadata": {},
   "outputs": [],
   "source": []
  },
  {
   "cell_type": "markdown",
   "metadata": {},
   "source": [
    "## Skew"
   ]
  },
  {
   "cell_type": "code",
   "execution_count": null,
   "metadata": {},
   "outputs": [],
   "source": []
  },
  {
   "cell_type": "markdown",
   "metadata": {},
   "source": [
    "## Kurt"
   ]
  },
  {
   "cell_type": "code",
   "execution_count": null,
   "metadata": {},
   "outputs": [],
   "source": []
  },
  {
   "cell_type": "markdown",
   "metadata": {},
   "source": [
    "# 4. Multivariate analysis\n",
    "\n",
    "Now you use seaborn to do scatterplots and pairplots\n",
    "\n",
    "the first allow you to plot 2 variables against each other and understand how they move together.\n",
    "\n",
    "Pairplots do this for all variables, all at the same time.\n",
    "\n",
    "Play with the hue parameter in sns"
   ]
  },
  {
   "cell_type": "code",
   "execution_count": null,
   "metadata": {},
   "outputs": [],
   "source": []
  }
 ],
 "metadata": {
  "kernelspec": {
   "display_name": "Python 3.10.0 ('.venv': venv)",
   "language": "python",
   "name": "python3"
  },
  "language_info": {
   "codemirror_mode": {
    "name": "ipython",
    "version": 3
   },
   "file_extension": ".py",
   "mimetype": "text/x-python",
   "name": "python",
   "nbconvert_exporter": "python",
   "pygments_lexer": "ipython3",
   "version": "3.10.0"
  },
  "orig_nbformat": 4,
  "vscode": {
   "interpreter": {
    "hash": "90058bf574df45dff5551cc98fef7be5399eef6c5fca100433bb3902fe599ea9"
   }
  }
 },
 "nbformat": 4,
 "nbformat_minor": 2
}
