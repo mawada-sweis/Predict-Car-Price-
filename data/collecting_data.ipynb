{
 "cells": [
  {
   "cell_type": "code",
   "execution_count": 1,
   "metadata": {},
   "outputs": [],
   "source": [
    "from bs4 import BeautifulSoup\n",
    "import pandas as pd"
   ]
  },
  {
   "cell_type": "code",
   "execution_count": 2,
   "metadata": {},
   "outputs": [],
   "source": [
    "# Read the file as html by BeautifulSoup and html parser \n",
    "with open(\"./500118.txt\", encoding='utf-8') as fp:\n",
    "    soup = BeautifulSoup(fp, \"html.parser\")"
   ]
  },
  {
   "cell_type": "code",
   "execution_count": 3,
   "metadata": {},
   "outputs": [],
   "source": [
    "# Create data frame to add the data collected \n",
    "df = pd.DataFrame()"
   ]
  },
  {
   "cell_type": "code",
   "execution_count": 4,
   "metadata": {},
   "outputs": [],
   "source": [
    "# features name\n",
    "features = { 0:'color', 1:'fuel_type', 2:'car_origin',3:'driving_license',\n",
    "                        4:'gear_type', 5:'glass', 6:'Motor_power', 7:'Vehicle_counter',\n",
    "                        8:'passengers_numbers', 9:'Payment_method', 10:'Offered', 11:'Former_owners',\n",
    "                        12:'need_split',13:'ad_status',14:'start_date',15:'end_date'}"
   ]
  },
  {
   "cell_type": "code",
   "execution_count": 5,
   "metadata": {},
   "outputs": [
    {
     "name": "stderr",
     "output_type": "stream",
     "text": [
      "C:\\Users\\DELL\\AppData\\Local\\Temp\\ipykernel_20612\\2835300177.py:30: FutureWarning: The frame.append method is deprecated and will be removed from pandas in a future version. Use pandas.concat instead.\n",
      "  df = df.append(data_row)\n"
     ]
    }
   ],
   "source": [
    "#  Looking for the tr with the classes 'list-row'\n",
    "table = soup.findAll('tr', class_='list-row')\n",
    "\n",
    "# list for instance\n",
    "data_row = []\n",
    "\n",
    "# sting of each value\n",
    "feature_value = ''\n",
    "\n",
    "# Collecting Data\n",
    "for row in table:  \n",
    "    # Find all data for each column\n",
    "    columns = row.findAll('td')\n",
    "    addition_info = row.findAll('li')\n",
    "    \n",
    "    # Get the sample values as list\n",
    "    if(columns != []):\n",
    "        if(addition_info):\n",
    "            for i in range(len(addition_info)):\n",
    "                feature_value += addition_info[i].text + ','\n",
    "        else:\n",
    "            feature_value = columns[1].text\n",
    "        \n",
    "        data_row.append(feature_value)\n",
    "\n",
    "# convert the data list to df\n",
    "data_row = pd.DataFrame(data_row).rename(index=features).T\n",
    "\n",
    "# add the final sample to initial df\n",
    "df = df.append(data_row)"
   ]
  },
  {
   "cell_type": "code",
   "execution_count": 6,
   "metadata": {},
   "outputs": [
    {
     "data": {
      "text/html": [
       "<div>\n",
       "<style scoped>\n",
       "    .dataframe tbody tr th:only-of-type {\n",
       "        vertical-align: middle;\n",
       "    }\n",
       "\n",
       "    .dataframe tbody tr th {\n",
       "        vertical-align: top;\n",
       "    }\n",
       "\n",
       "    .dataframe thead th {\n",
       "        text-align: right;\n",
       "    }\n",
       "</style>\n",
       "<table border=\"1\" class=\"dataframe\">\n",
       "  <thead>\n",
       "    <tr style=\"text-align: right;\">\n",
       "      <th></th>\n",
       "      <th>color</th>\n",
       "      <th>fuel_type</th>\n",
       "      <th>car_origin</th>\n",
       "      <th>driving_license</th>\n",
       "      <th>gear_type</th>\n",
       "      <th>glass</th>\n",
       "      <th>Motor_power</th>\n",
       "      <th>Vehicle_counter</th>\n",
       "      <th>passengers_numbers</th>\n",
       "      <th>Payment_method</th>\n",
       "      <th>Offered</th>\n",
       "      <th>Former_owners</th>\n",
       "      <th>need_split</th>\n",
       "      <th>ad_status</th>\n",
       "      <th>start_date</th>\n",
       "      <th>end_date</th>\n",
       "    </tr>\n",
       "  </thead>\n",
       "  <tbody>\n",
       "    <tr>\n",
       "      <th>0</th>\n",
       "      <td>أبيض عاجي</td>\n",
       "      <td>بنزين</td>\n",
       "      <td>خصوصي</td>\n",
       "      <td>فلسطينية</td>\n",
       "      <td>اوتوماتيك</td>\n",
       "      <td>الكتروني</td>\n",
       "      <td>2000</td>\n",
       "      <td>75000</td>\n",
       "      <td>4+1</td>\n",
       "      <td>نقدا فقط</td>\n",
       "      <td>للبيع فقط</td>\n",
       "      <td>يد اولى</td>\n",
       "      <td>يد اولى مُكيّف,إغلاق مركزي,جهاز إنذار,مسجل CD,...</td>\n",
       "      <td>إعلان منتهي</td>\n",
       "      <td>2017-08-16</td>\n",
       "      <td>2017-09-15</td>\n",
       "    </tr>\n",
       "  </tbody>\n",
       "</table>\n",
       "</div>"
      ],
      "text/plain": [
       "        color fuel_type car_origin driving_license   gear_type      glass  \\\n",
       "0  أبيض عاجي     بنزين      خصوصي        فلسطينية   اوتوماتيك   الكتروني    \n",
       "\n",
       "  Motor_power Vehicle_counter passengers_numbers Payment_method     Offered  \\\n",
       "0       2000           75000                4+1       نقدا فقط   للبيع فقط    \n",
       "\n",
       "  Former_owners                                         need_split  \\\n",
       "0      يد اولى   يد اولى مُكيّف,إغلاق مركزي,جهاز إنذار,مسجل CD,...   \n",
       "\n",
       "      ad_status   start_date     end_date  \n",
       "0  إعلان منتهي   2017-08-16   2017-09-15   "
      ]
     },
     "execution_count": 6,
     "metadata": {},
     "output_type": "execute_result"
    }
   ],
   "source": [
    "# display df\n",
    "df"
   ]
  },
  {
   "cell_type": "code",
   "execution_count": null,
   "metadata": {},
   "outputs": [],
   "source": []
  }
 ],
 "metadata": {
  "kernelspec": {
   "display_name": "Python 3.10.0 ('.venv': venv)",
   "language": "python",
   "name": "python3"
  },
  "language_info": {
   "codemirror_mode": {
    "name": "ipython",
    "version": 3
   },
   "file_extension": ".py",
   "mimetype": "text/x-python",
   "name": "python",
   "nbconvert_exporter": "python",
   "pygments_lexer": "ipython3",
   "version": "3.10.0"
  },
  "orig_nbformat": 4,
  "vscode": {
   "interpreter": {
    "hash": "90058bf574df45dff5551cc98fef7be5399eef6c5fca100433bb3902fe599ea9"
   }
  }
 },
 "nbformat": 4,
 "nbformat_minor": 2
}
