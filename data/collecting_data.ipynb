{
 "cells": [
  {
   "cell_type": "code",
   "execution_count": 1,
   "metadata": {},
   "outputs": [],
   "source": [
    "import warnings\n",
    "from bs4 import BeautifulSoup\n",
    "from pathlib import Path\n",
    "import pandas as pd\n",
    "import re\n",
    "warnings.simplefilter(action='ignore', category=FutureWarning)"
   ]
  },
  {
   "cell_type": "code",
   "execution_count": 2,
   "metadata": {},
   "outputs": [],
   "source": [
    "def initialize_df():\n",
    "    '''Create the necessary dataframes for extracting features\n",
    "    from the files.\n",
    "    '''\n",
    "    global features, maping_description, insurance_features, ads_features\n",
    "\n",
    "    features = {\n",
    "        'name': None,\n",
    "        'model': None,\n",
    "        'price': None,\n",
    "        'color': None,\n",
    "        'fuel_type': None,\n",
    "        'origin_car': None,\n",
    "        'car_license': None,\n",
    "        'lime_type': None,\n",
    "        'glass': None,\n",
    "        'motor_power': None,\n",
    "        'car_speedometer': None,\n",
    "        'passengers': None,\n",
    "        'payment_method': None,\n",
    "        'displayed': None,\n",
    "        'ex_owners': None,\n",
    "        'additional_info': None,\n",
    "        'insurance_third': None,\n",
    "        'supplementary_body': None,\n",
    "        'total': None,\n",
    "        'ads_status': None,\n",
    "        'ads_start_data': None,\n",
    "        'ads_end_data': None,\n",
    "        }\n",
    "    maping_description = {\n",
    "        \"لون السيارة\": 'color',\n",
    "        \"نوع الوقود\": 'fuel_type',\n",
    "        \"أصل السيارة\": 'origin_car',\n",
    "        \"عداد السيارة\": 'car_speedometer',\n",
    "        \"أصحاب سابقون\": 'ex_owners',\n",
    "        \"رخصة السيارة\": 'car_license',\n",
    "        \"نوع الجير\": 'lime_type',\n",
    "        \"الزجاج\": 'glass',\n",
    "        \"قوة الماتور\": 'motor_power',\n",
    "        \"عدد الركاب\": 'passengers',\n",
    "        \"وسيلة الدفع\": 'payment_method',\n",
    "        \"معروضة\": 'displayed'\n",
    "    }\n",
    "    insurance_features = ['insurance_third', 'supplementary_body', 'total']\n",
    "    ads_features = ['ads_status', 'ads_start_data', 'ads_end_data']"
   ]
  },
  {
   "cell_type": "code",
   "execution_count": 3,
   "metadata": {},
   "outputs": [],
   "source": [
    "def get_model(model_element):\n",
    "    \"\"\"Extracting model year features from file to features dictionary.\n",
    "\n",
    "    Args:\n",
    "        model_element (bs4.element.Tag): contains first 'h5' element\n",
    "            with no css class.\n",
    "    \"\"\"\n",
    "    for row in model_element:\n",
    "        subitem = str(row.text).split()\n",
    "        for item in subitem:\n",
    "            if(item.isdigit()):\n",
    "                features['model'] = item\n",
    "                break"
   ]
  },
  {
   "cell_type": "code",
   "execution_count": 4,
   "metadata": {},
   "outputs": [],
   "source": [
    "def get_price(price_element):\n",
    "    \"\"\"Extracting price feature from file to features dictionary.\n",
    "    Args:\n",
    "        price (bs4.element.Tag): contain 'h5' tag with no css class\n",
    "    \"\"\"\n",
    "    price = str(price_element.text)\n",
    "    for subitem in price.split():\n",
    "        if(subitem.isdigit()):\n",
    "            price = subitem\n",
    "            break\n",
    "\n",
    "    features['price'] = int(price)"
   ]
  },
  {
   "cell_type": "code",
   "execution_count": 5,
   "metadata": {},
   "outputs": [],
   "source": [
    "def get_description(description_element):\n",
    "    \"\"\"Extracting description features from file to features dictionary.\n",
    "    it has 12 features: 'color', 'fuel_type', 'origin_car',\n",
    "    'car_license', 'lime_type','glass', 'motor_power', 'car_speedometer',\n",
    "    'passengers', 'payment_method','displayed', 'ex_owners',\n",
    "\n",
    "    Args:\n",
    "        description_element (bs4.element.Tag): contain 'table' element\n",
    "            with css class 'list_ads'\n",
    "    \"\"\"\n",
    "\n",
    "    for arabic_feature in maping_description.keys():\n",
    "        description = description_element.find(text=arabic_feature)\n",
    "        features[maping_description[arabic_feature]] = \\\n",
    "            None if description is None \\\n",
    "            else description.next_element.get_text()"
   ]
  },
  {
   "cell_type": "code",
   "execution_count": 6,
   "metadata": {},
   "outputs": [],
   "source": [
    "def get_insurance(insurance_element):\n",
    "    \"\"\"Extracting insurance features from file to features dictionary.\n",
    "    it has 3 features: 'insurance_third','supplementary_body' and 'total'\n",
    "\n",
    "    Args:\n",
    "        insurance_element (bs4.element.ResultSet): contain all 'td' element\n",
    "            with no css class nor css colspan from the first div element\n",
    "            has css class 'row'\n",
    "    \"\"\"\n",
    "    count = 0\n",
    "    for row in insurance_element:\n",
    "        subitem = str(row.text).split()\n",
    "        for item in subitem:\n",
    "            if(item.isdigit()):\n",
    "                features[insurance_features[count]] = item\n",
    "                count += 1"
   ]
  },
  {
   "cell_type": "code",
   "execution_count": 7,
   "metadata": {},
   "outputs": [],
   "source": [
    "def get_additional(additional_element):\n",
    "    \"\"\"Extracting additional feature from file to features dictionary.\n",
    "\n",
    "    Args:\n",
    "        additional_element (bs4.element.Tag): contain 'td' element with\n",
    "            css class 'list-additions'\n",
    "    \"\"\"\n",
    "    additional_value = []\n",
    "    additional_element = additional_element.findAll('li')\n",
    "\n",
    "    for row in additional_element:\n",
    "        value = ''\n",
    "        value += row.text\n",
    "        additional_value.append(value)\n",
    "    additional_value = ','.join(map(str, additional_value))\n",
    "\n",
    "    features['additional_info'] = additional_value"
   ]
  },
  {
   "cell_type": "code",
   "execution_count": 22,
   "metadata": {},
   "outputs": [],
   "source": [
    "def get_post_info(post_info_element):\n",
    "    \"\"\"Extracting post information features from file to features dictionary.\n",
    "    it has 3 features: 'ads_status', 'ads_start_data' and 'ads_end_data'\n",
    "\n",
    "    Args:\n",
    "        post_info_element (bs4.element.ResultSet): contains the third 'table'\n",
    "            element with css class 'create_post'\n",
    "    \"\"\"\n",
    "    post_info_element = str(post_info_element.text).split()\n",
    "\n",
    "    date_with_str = [post_info_element[5], post_info_element[8]]\n",
    "\n",
    "    features['ads_status'] = post_info_element[2]\n",
    "\n",
    "    for index in range(len(date_with_str)):\n",
    "        match = re.search(r'\\d{4}-\\d{2}-\\d{2}', date_with_str[index])\n",
    "        features[ads_features[index+1]] = match.group()"
   ]
  },
  {
   "cell_type": "code",
   "execution_count": 23,
   "metadata": {},
   "outputs": [
    {
     "ename": "AttributeError",
     "evalue": "'NoneType' object has no attribute 'group'",
     "output_type": "error",
     "traceback": [
      "\u001b[1;31m---------------------------------------------------------------------------\u001b[0m",
      "\u001b[1;31mAttributeError\u001b[0m                            Traceback (most recent call last)",
      "Cell \u001b[1;32mIn [23], line 30\u001b[0m\n\u001b[0;32m     27\u001b[0m get_additional(soup\u001b[39m.\u001b[39mfind(\u001b[39m'\u001b[39m\u001b[39mtd\u001b[39m\u001b[39m'\u001b[39m, class_\u001b[39m=\u001b[39m\u001b[39m'\u001b[39m\u001b[39mlist-additions\u001b[39m\u001b[39m'\u001b[39m))\n\u001b[0;32m     29\u001b[0m \u001b[39m# Extracting post information values to features dictionary\u001b[39;00m\n\u001b[1;32m---> 30\u001b[0m get_post_info(soup\u001b[39m.\u001b[39;49mfindAll(\u001b[39m'\u001b[39;49m\u001b[39mtable\u001b[39;49m\u001b[39m'\u001b[39;49m, class_\u001b[39m=\u001b[39;49m\u001b[39m'\u001b[39;49m\u001b[39mcreate_post\u001b[39;49m\u001b[39m'\u001b[39;49m)[\u001b[39m-\u001b[39;49m\u001b[39m1\u001b[39;49m])\n\u001b[0;32m     32\u001b[0m \u001b[39m# Convert the dictionary to series\u001b[39;00m\n\u001b[0;32m     33\u001b[0m sample \u001b[39m=\u001b[39m pd\u001b[39m.\u001b[39mSeries(features)\n",
      "Cell \u001b[1;32mIn [22], line 17\u001b[0m, in \u001b[0;36mget_post_info\u001b[1;34m(post_info_element)\u001b[0m\n\u001b[0;32m     15\u001b[0m \u001b[39mfor\u001b[39;00m index \u001b[39min\u001b[39;00m \u001b[39mrange\u001b[39m(\u001b[39mlen\u001b[39m(date_with_str)):\n\u001b[0;32m     16\u001b[0m     match \u001b[39m=\u001b[39m re\u001b[39m.\u001b[39msearch(\u001b[39mr\u001b[39m\u001b[39m'\u001b[39m\u001b[39m\\\u001b[39m\u001b[39md\u001b[39m\u001b[39m{4}\u001b[39;00m\u001b[39m-\u001b[39m\u001b[39m\\\u001b[39m\u001b[39md\u001b[39m\u001b[39m{2}\u001b[39;00m\u001b[39m-\u001b[39m\u001b[39m\\\u001b[39m\u001b[39md\u001b[39m\u001b[39m{2}\u001b[39;00m\u001b[39m'\u001b[39m, date_with_str[index])\n\u001b[1;32m---> 17\u001b[0m     features[ads_features[index\u001b[39m+\u001b[39m\u001b[39m1\u001b[39m]] \u001b[39m=\u001b[39m match\u001b[39m.\u001b[39;49mgroup()\n",
      "\u001b[1;31mAttributeError\u001b[0m: 'NoneType' object has no attribute 'group'"
     ]
    }
   ],
   "source": [
    "# Create dataframe to add the data collected\n",
    "data = pd.DataFrame()\n",
    "\n",
    "for path in Path('data/').glob('*.txt'):\n",
    "    initialize_df()\n",
    "    with path.open(encoding='utf-8') as file_path:\n",
    "        # create BeautifulSoup object for file by html parser\n",
    "        soup = BeautifulSoup(file_path, \"html.parser\")\n",
    "\n",
    "        # Extracting name value to features dictionary\n",
    "        features['name'] = soup.find('h3', class_=None).text\n",
    "\n",
    "        # Extracting model value to features dictionary\n",
    "        get_model(soup.find('h5', class_=None))\n",
    "\n",
    "        # Extracting price value to features dictionary\n",
    "        get_price(soup.find('h5', class_='post-price'))\n",
    "\n",
    "        # Extracting description values to features dictionary\n",
    "        get_description(soup.find('table', class_='list_ads'))\n",
    "\n",
    "        # Extracting insurance values to features dictionary\n",
    "        get_insurance(soup.find('div', class_='row').findAll('td',\n",
    "                      attrs={'class': None, 'colspan': None}))\n",
    "\n",
    "        # Extracting additional value to features dictionary\n",
    "        get_additional(soup.find('td', class_='list-additions'))\n",
    "\n",
    "        # Extracting post information values to features dictionary\n",
    "        get_post_info(soup.findAll('table', class_='create_post')[-1])\n",
    "\n",
    "        # Convert the dictionary to series\n",
    "        sample = pd.Series(features)\n",
    "\n",
    "        # Concating the sample series to the dataframe\n",
    "        data = pd.concat((data, sample), axis=1, ignore_index=True)\n",
    "\n",
    "# Transpose dataframe\n",
    "data = data.T\n"
   ]
  },
  {
   "cell_type": "code",
   "execution_count": 25,
   "metadata": {},
   "outputs": [],
   "source": [
    "data = data.T"
   ]
  },
  {
   "cell_type": "code",
   "execution_count": 29,
   "metadata": {},
   "outputs": [],
   "source": [
    "data.to_csv('data.csv')"
   ]
  }
 ],
 "metadata": {
  "kernelspec": {
   "display_name": "Python 3.10.0 ('.venv': venv)",
   "language": "python",
   "name": "python3"
  },
  "language_info": {
   "codemirror_mode": {
    "name": "ipython",
    "version": 3
   },
   "file_extension": ".py",
   "mimetype": "text/x-python",
   "name": "python",
   "nbconvert_exporter": "python",
   "pygments_lexer": "ipython3",
   "version": "3.10.0"
  },
  "orig_nbformat": 4,
  "vscode": {
   "interpreter": {
    "hash": "90058bf574df45dff5551cc98fef7be5399eef6c5fca100433bb3902fe599ea9"
   }
  }
 },
 "nbformat": 4,
 "nbformat_minor": 2
}
